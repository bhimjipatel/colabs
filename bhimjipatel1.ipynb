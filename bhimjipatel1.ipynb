{
  "nbformat": 4,
  "nbformat_minor": 0,
  "metadata": {
    "colab": {
      "provenance": [],
      "authorship_tag": "ABX9TyNq9DXKZThKpVSardqNHASM"
    },
    "kernelspec": {
      "name": "python3",
      "display_name": "Python 3"
    },
    "language_info": {
      "name": "python"
    }
  },
  "cells": [
    {
      "cell_type": "code",
      "execution_count": null,
      "metadata": {
        "colab": {
          "base_uri": "https://localhost:8080/"
        },
        "id": "k8aRIzsdAD-a",
        "outputId": "a036a929-a0ae-4c1a-ed27-b830c385596d"
      },
      "outputs": [
        {
          "output_type": "stream",
          "name": "stdout",
          "text": [
            "Hello World!\n"
          ]
        }
      ],
      "source": [
        "print(\"Hello World!\")"
      ]
    },
    {
      "cell_type": "code",
      "source": [
        "x=1\n",
        "y=2\n",
        "result=x+y\n",
        "print(f\"This is the result {result}\")"
      ],
      "metadata": {
        "id": "kICanTn0AWtm",
        "colab": {
          "base_uri": "https://localhost:8080/"
        },
        "outputId": "93e312e3-77a5-4bfc-962c-bee134fd9af2"
      },
      "execution_count": 1,
      "outputs": [
        {
          "output_type": "stream",
          "name": "stdout",
          "text": [
            "This is the result 3\n"
          ]
        }
      ]
    }
  ]
}